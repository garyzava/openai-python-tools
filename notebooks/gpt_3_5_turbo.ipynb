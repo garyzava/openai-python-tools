{
  "nbformat": 4,
  "nbformat_minor": 0,
  "metadata": {
    "colab": {
      "provenance": []
    },
    "kernelspec": {
      "name": "python3",
      "display_name": "Python 3"
    },
    "language_info": {
      "name": "python"
    }
  },
  "cells": [
    {
      "cell_type": "markdown",
      "source": [
        "# Using ChatGPT through Python and Google Colab\n",
        "\n",
        "In this notebook you can connect to the ChatGPT API using the model engine called gpt-3.5-turbo. Get an API key from OPENAI and replace the path and filename from the .env.dev"
      ],
      "metadata": {
        "id": "qzQzonRjolLX"
      }
    },
    {
      "cell_type": "code",
      "source": [
        "from google.colab import drive\n",
        "drive.mount('/content/drive')"
      ],
      "metadata": {
        "colab": {
          "base_uri": "https://localhost:8080/"
        },
        "id": "ID5QvzujqSbM",
        "outputId": "58d98f4d-785e-4819-acfd-ddf6af55c69f"
      },
      "execution_count": null,
      "outputs": [
        {
          "output_type": "stream",
          "name": "stdout",
          "text": [
            "Mounted at /content/drive\n"
          ]
        }
      ]
    },
    {
      "cell_type": "code",
      "execution_count": null,
      "metadata": {
        "colab": {
          "base_uri": "https://localhost:8080/"
        },
        "id": "8qXhcqIiSRAU",
        "outputId": "51956327-14ca-4ed3-d56a-d8a2fcbfb222"
      },
      "outputs": [
        {
          "output_type": "stream",
          "name": "stdout",
          "text": [
            "Looking in indexes: https://pypi.org/simple, https://us-python.pkg.dev/colab-wheels/public/simple/\n",
            "Collecting python-dotenv\n",
            "  Downloading python_dotenv-1.0.0-py3-none-any.whl (19 kB)\n",
            "Installing collected packages: python-dotenv\n",
            "Successfully installed python-dotenv-1.0.0\n"
          ]
        },
        {
          "output_type": "execute_result",
          "data": {
            "text/plain": [
              "True"
            ]
          },
          "metadata": {},
          "execution_count": 2
        }
      ],
      "source": [
        "#Mount the GDRIVE first before running below\n",
        "!pip install python-dotenv\n",
        "from dotenv import load_dotenv, find_dotenv\n",
        "env_file = find_dotenv(\"/PATH-HERE/.env.dev\")\n",
        "load_dotenv(env_file)"
      ]
    },
    {
      "cell_type": "code",
      "source": [
        "#Set up your OPENAI API Key\n",
        "import os\n",
        "os.environ[\"OPENAI_API_KEY\"] = os.getenv(\"OPENAI_API_KEY\")"
      ],
      "metadata": {
        "id": "Ah-hMcJkTI8B"
      },
      "execution_count": null,
      "outputs": []
    },
    {
      "cell_type": "code",
      "source": [
        "#Running into issues downloading the openai, the fix is to upgrade pip\n",
        "%pip install --upgrade pip"
      ],
      "metadata": {
        "colab": {
          "base_uri": "https://localhost:8080/"
        },
        "id": "R2gEHbpMTd9I",
        "outputId": "2c5fc417-8bf2-4edb-857d-bf2e29c404e0"
      },
      "execution_count": null,
      "outputs": [
        {
          "output_type": "stream",
          "name": "stdout",
          "text": [
            "Looking in indexes: https://pypi.org/simple, https://us-python.pkg.dev/colab-wheels/public/simple/\n",
            "Requirement already satisfied: pip in /usr/local/lib/python3.8/dist-packages (22.0.4)\n",
            "Collecting pip\n",
            "  Downloading pip-23.0.1-py3-none-any.whl (2.1 MB)\n",
            "\u001b[2K     \u001b[90m━━━━━━━━━━━━━━━━━━━━━━━━━━━━━━━━━━━━━━━━\u001b[0m \u001b[32m2.1/2.1 MB\u001b[0m \u001b[31m22.8 MB/s\u001b[0m eta \u001b[36m0:00:00\u001b[0m\n",
            "\u001b[?25hInstalling collected packages: pip\n",
            "  Attempting uninstall: pip\n",
            "    Found existing installation: pip 22.0.4\n",
            "    Uninstalling pip-22.0.4:\n",
            "      Successfully uninstalled pip-22.0.4\n",
            "Successfully installed pip-23.0.1\n"
          ]
        }
      ]
    },
    {
      "cell_type": "code",
      "source": [
        "#Installing dependencies\n",
        "!pip install openai"
      ],
      "metadata": {
        "colab": {
          "base_uri": "https://localhost:8080/"
        },
        "id": "4quQZaxsTgtA",
        "outputId": "24c25c4e-8049-4833-d1f4-92c4f30ca840"
      },
      "execution_count": null,
      "outputs": [
        {
          "output_type": "stream",
          "name": "stdout",
          "text": [
            "Looking in indexes: https://pypi.org/simple, https://us-python.pkg.dev/colab-wheels/public/simple/\n",
            "Collecting openai\n",
            "  Downloading openai-0.27.2-py3-none-any.whl (70 kB)\n",
            "\u001b[2K     \u001b[90m━━━━━━━━━━━━━━━━━━━━━━━━━━━━━━━━━━━━━━━━\u001b[0m \u001b[32m70.1/70.1 KB\u001b[0m \u001b[31m4.7 MB/s\u001b[0m eta \u001b[36m0:00:00\u001b[0m\n",
            "\u001b[?25hRequirement already satisfied: tqdm in /usr/local/lib/python3.9/dist-packages (from openai) (4.65.0)\n",
            "Collecting aiohttp\n",
            "  Downloading aiohttp-3.8.4-cp39-cp39-manylinux_2_17_x86_64.manylinux2014_x86_64.whl (1.0 MB)\n",
            "\u001b[2K     \u001b[90m━━━━━━━━━━━━━━━━━━━━━━━━━━━━━━━━━━━━━━━━\u001b[0m \u001b[32m1.0/1.0 MB\u001b[0m \u001b[31m17.7 MB/s\u001b[0m eta \u001b[36m0:00:00\u001b[0m\n",
            "\u001b[?25hRequirement already satisfied: requests>=2.20 in /usr/local/lib/python3.9/dist-packages (from openai) (2.25.1)\n",
            "Requirement already satisfied: chardet<5,>=3.0.2 in /usr/local/lib/python3.9/dist-packages (from requests>=2.20->openai) (4.0.0)\n",
            "Requirement already satisfied: urllib3<1.27,>=1.21.1 in /usr/local/lib/python3.9/dist-packages (from requests>=2.20->openai) (1.26.14)\n",
            "Requirement already satisfied: idna<3,>=2.5 in /usr/local/lib/python3.9/dist-packages (from requests>=2.20->openai) (2.10)\n",
            "Requirement already satisfied: certifi>=2017.4.17 in /usr/local/lib/python3.9/dist-packages (from requests>=2.20->openai) (2022.12.7)\n",
            "Collecting yarl<2.0,>=1.0\n",
            "  Downloading yarl-1.8.2-cp39-cp39-manylinux_2_17_x86_64.manylinux2014_x86_64.whl (264 kB)\n",
            "\u001b[2K     \u001b[90m━━━━━━━━━━━━━━━━━━━━━━━━━━━━━━━━━━━━━━\u001b[0m \u001b[32m264.6/264.6 KB\u001b[0m \u001b[31m24.6 MB/s\u001b[0m eta \u001b[36m0:00:00\u001b[0m\n",
            "\u001b[?25hCollecting multidict<7.0,>=4.5\n",
            "  Downloading multidict-6.0.4-cp39-cp39-manylinux_2_17_x86_64.manylinux2014_x86_64.whl (114 kB)\n",
            "\u001b[2K     \u001b[90m━━━━━━━━━━━━━━━━━━━━━━━━━━━━━━━━━━━━━━\u001b[0m \u001b[32m114.2/114.2 KB\u001b[0m \u001b[31m14.6 MB/s\u001b[0m eta \u001b[36m0:00:00\u001b[0m\n",
            "\u001b[?25hCollecting charset-normalizer<4.0,>=2.0\n",
            "  Downloading charset_normalizer-3.1.0-cp39-cp39-manylinux_2_17_x86_64.manylinux2014_x86_64.whl (199 kB)\n",
            "\u001b[2K     \u001b[90m━━━━━━━━━━━━━━━━━━━━━━━━━━━━━━━━━━━━━━\u001b[0m \u001b[32m199.2/199.2 KB\u001b[0m \u001b[31m21.4 MB/s\u001b[0m eta \u001b[36m0:00:00\u001b[0m\n",
            "\u001b[?25hRequirement already satisfied: attrs>=17.3.0 in /usr/local/lib/python3.9/dist-packages (from aiohttp->openai) (22.2.0)\n",
            "Collecting async-timeout<5.0,>=4.0.0a3\n",
            "  Downloading async_timeout-4.0.2-py3-none-any.whl (5.8 kB)\n",
            "Collecting aiosignal>=1.1.2\n",
            "  Downloading aiosignal-1.3.1-py3-none-any.whl (7.6 kB)\n",
            "Collecting frozenlist>=1.1.1\n",
            "  Downloading frozenlist-1.3.3-cp39-cp39-manylinux_2_5_x86_64.manylinux1_x86_64.manylinux_2_17_x86_64.manylinux2014_x86_64.whl (158 kB)\n",
            "\u001b[2K     \u001b[90m━━━━━━━━━━━━━━━━━━━━━━━━━━━━━━━━━━━━━━\u001b[0m \u001b[32m158.8/158.8 KB\u001b[0m \u001b[31m16.3 MB/s\u001b[0m eta \u001b[36m0:00:00\u001b[0m\n",
            "\u001b[?25hInstalling collected packages: multidict, frozenlist, charset-normalizer, async-timeout, yarl, aiosignal, aiohttp, openai\n",
            "Successfully installed aiohttp-3.8.4 aiosignal-1.3.1 async-timeout-4.0.2 charset-normalizer-3.1.0 frozenlist-1.3.3 multidict-6.0.4 openai-0.27.2 yarl-1.8.2\n"
          ]
        }
      ]
    },
    {
      "cell_type": "code",
      "source": [
        "#Importing OPENAI Library\n",
        "import openai"
      ],
      "metadata": {
        "id": "d66CpEuOTvmr"
      },
      "execution_count": null,
      "outputs": []
    },
    {
      "cell_type": "code",
      "source": [
        "# Define a function to generate text using GPT-3.5-Turbo, same as ChatGPT\n",
        "def generate_text_2(prompt, model=\"gpt-3.5-turbo\"):\n",
        "    response = openai.ChatCompletion.create(\n",
        "        model=model,\n",
        "        messages=[\n",
        "            {\"role\": \"user\", \"content\": f'{prompt}'}],\n",
        "        max_tokens=2000,\n",
        "        #n=1,\n",
        "        #stop=None,\n",
        "        temperature=0,\n",
        "    )\n",
        "    message = response['choices'][0]['message']['content'].strip()\n",
        "    return message\n",
        "\n",
        "def ask_chatgpt():\n",
        "    prompt = input(\"You: \")\n",
        "    response = generate_text_2(prompt)\n",
        "    print(\"ChatGPT: \" + str(response))    "
      ],
      "metadata": {
        "id": "OUtBzDxOTyHX"
      },
      "execution_count": null,
      "outputs": []
    },
    {
      "cell_type": "code",
      "source": [
        "ask_chatgpt()"
      ],
      "metadata": {
        "colab": {
          "base_uri": "https://localhost:8080/"
        },
        "id": "eCqK-f_tT-dk",
        "outputId": "f7fdedbc-47f3-4c6a-b485-13843f96e53b"
      },
      "execution_count": null,
      "outputs": [
        {
          "output_type": "stream",
          "name": "stdout",
          "text": [
            "You: Write a python script to compress files and subdirectories using 7zip adding a password. Allow the script to do not compress the subfolders named archive or log\n",
            "ChatGPT: As an AI language model, I cannot perform file operations. However, I can provide you with the Python code that you can use to compress files and subdirectories using 7zip adding a password. Here is the code:\n",
            "\n",
            "```\n",
            "import os\n",
            "import subprocess\n",
            "\n",
            "# Set the path to 7zip executable\n",
            "zip_path = \"C:\\\\Program Files\\\\7-Zip\\\\7z.exe\"\n",
            "\n",
            "# Set the path to the directory to be compressed\n",
            "dir_path = \"C:\\\\Users\\\\User\\\\Documents\\\\MyFolder\"\n",
            "\n",
            "# Set the password for the compressed file\n",
            "password = \"mypassword\"\n",
            "\n",
            "# Define a function to check if a subdirectory should be excluded\n",
            "def exclude_dir(dir_name):\n",
            "    return dir_name.lower() in [\"archive\", \"log\"]\n",
            "\n",
            "# Define a function to compress a directory\n",
            "def compress_dir(dir_path, password):\n",
            "    # Get the directory name\n",
            "    dir_name = os.path.basename(dir_path)\n",
            "    \n",
            "    # Check if the directory should be excluded\n",
            "    if exclude_dir(dir_name):\n",
            "        return\n",
            "    \n",
            "    # Set the path to the compressed file\n",
            "    zip_path = os.path.join(dir_path, dir_name + \".7z\")\n",
            "    \n",
            "    # Compress the directory using 7zip\n",
            "    subprocess.call([zip_path, \"a\", \"-p\" + password, \"-r\", \"-mx9\", zip_path, dir_path])\n",
            "    \n",
            "    # Print a message\n",
            "    print(\"Directory {} compressed successfully.\".format(dir_name))\n",
            "\n",
            "# Call the compress_dir function for each subdirectory\n",
            "for sub_dir in os.listdir(dir_path):\n",
            "    sub_dir_path = os.path.join(dir_path, sub_dir)\n",
            "    if os.path.isdir(sub_dir_path):\n",
            "        compress_dir(sub_dir_path, password)\n",
            "```\n",
            "\n",
            "In this code, we first set the path to the 7zip executable and the directory to be compressed. We also set the password for the compressed file. We then define a function to check if a subdirectory should be excluded from compression. This function checks if the subdirectory name is \"archive\" or \"log\". We also define a function to compress a directory using 7zip. This function first checks if the directory should be excluded, then sets the path to the compressed file, and finally calls the 7zip executable to compress the directory with the specified password. We then call the compress_dir function for each subdirectory in the specified directory.\n"
          ]
        }
      ]
    }
  ]
}